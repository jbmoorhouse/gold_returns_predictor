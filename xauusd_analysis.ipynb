{
 "cells": [
  {
   "cell_type": "markdown",
   "metadata": {},
   "source": [
    "# XAUUSD"
   ]
  },
  {
   "cell_type": "code",
   "execution_count": 2,
   "metadata": {},
   "outputs": [],
   "source": [
    "import quandl\n",
    "import pandas as pd\n",
    "import numpy as np\n",
    "\n",
    "import matplotlib.pyplot as plt\n",
    "import seaborn as sns\n",
    "\n",
    "from tqdm import tqdm\n",
    "import os\n",
    "\n",
    "import warnings\n",
    "import logging\n",
    "\n",
    "from sklearn.preprocessing import StandardScaler, RobustScaler\n",
    "from sklearn.ensemble import RandomForestClassifier\n",
    "from sklearn.base import BaseEstimator, TransformerMixin\n",
    "from sklearn.pipeline import Pipeline"
   ]
  },
  {
   "cell_type": "code",
   "execution_count": 3,
   "metadata": {},
   "outputs": [],
   "source": [
    "xau_ratios = [\n",
    "    \"WGC/GOLD_DAILY_USD\"\n",
    "#     \"WGC/GOLD_DAILY_EUR\",\n",
    "#     \"WGC/GOLD_DAILY_TRY\",\n",
    "#     \"WGC/GOLD_DAILY_JPY\",\n",
    "#     \"WGC/GOLD_DAILY_GBP\",\n",
    "#     \"WGC/GOLD_DAILY_CAD\",\n",
    "#     \"WGC/GOLD_DAILY_CHF\",\n",
    "#     \"WGC/GOLD_DAILY_VND\",\n",
    "#     \"WGC/GOLD_DAILY_KRW\",\n",
    "#     \"WGC/GOLD_DAILY_RUB\",\n",
    "#     \"WGC/GOLD_DAILY_AUD\",\n",
    "]\n",
    "\n",
    "economic_indc = []"
   ]
  },
  {
   "cell_type": "markdown",
   "metadata": {},
   "source": [
    "### Quandl data terms\n",
    "\n",
    "Anyone seeking to use this code must first apply for an account with [Quandl](https://www.quandl.com) in order to receive an valid authetitciation key."
   ]
  },
  {
   "cell_type": "code",
   "execution_count": 4,
   "metadata": {},
   "outputs": [],
   "source": [
    "DIR_NAME = os.path.abspath(os.path.join(os.getcwd(), '..'))\n",
    "FILEPATH = os.path.join(DIR_NAME, \"auth.txt\")\n",
    "\n",
    "with open(FILEPATH, \"r\") as f:\n",
    "    authtoken = f.read();"
   ]
  },
  {
   "cell_type": "markdown",
   "metadata": {},
   "source": [
    "# Retrieve Data"
   ]
  },
  {
   "cell_type": "code",
   "execution_count": 5,
   "metadata": {},
   "outputs": [
    {
     "name": "stderr",
     "output_type": "stream",
     "text": [
      "100%|██████████| 1/1 [00:03<00:00,  3.03s/it]\n"
     ]
    }
   ],
   "source": [
    "xau_df_dict = {}\n",
    "\n",
    "for ratio in tqdm(xau_ratios):\n",
    "    name = ratio.lower().replace(\"/\", \"_\")\n",
    "\n",
    "    # get the ratio dataframe\n",
    "    df = quandl.get(ratio, authtoken=authtoken, start_date = \"1979-01-01\")\n",
    "    df.columns = [\"price\"]\n",
    "    \n",
    "    # check for missing business days \n",
    "    if pd.infer_freq(df.index) != \"B\":\n",
    "        logging.warn(\"Datetime frequency is not Business Days\")\n",
    "    \n",
    "    xau_df_dict[name] = df"
   ]
  },
  {
   "cell_type": "markdown",
   "metadata": {},
   "source": [
    "## Volatility"
   ]
  },
  {
   "cell_type": "code",
   "execution_count": 6,
   "metadata": {},
   "outputs": [
    {
     "name": "stderr",
     "output_type": "stream",
     "text": [
      "100%|██████████| 1/1 [00:00<00:00,  2.58it/s]\n"
     ]
    }
   ],
   "source": [
    "annualization_factor = 252.\n",
    "window_size = [5, 20, 60, 120, 252]\n",
    "\n",
    "for ratio, df in tqdm(xau_df_dict.items()):\n",
    "    start_date, end_date = df.index[0], df.index[-1]\n",
    "    full_range = pd.date_range(start_date, end_date, freq = \"B\")\n",
    "    \n",
    "    if not np.array_equal(df.index, pd.date_range(start_date, end_date, freq=\"B\")):\n",
    "        logging.warning(\"\\n{} is missing business days\".format(ratio))\n",
    "\n",
    "    for window in window_size:\n",
    "        df['{}d_market_vol'.format(window)] = np.sqrt(\n",
    "            (annualization_factor/window) * df['price'].rolling(window).var(ddof=0))"
   ]
  },
  {
   "cell_type": "markdown",
   "metadata": {},
   "source": [
    "## Quandl Features"
   ]
  },
  {
   "cell_type": "code",
   "execution_count": 7,
   "metadata": {},
   "outputs": [],
   "source": [
    "features = [\n",
    "    \"FRED/T10Y2Y\",\n",
    "    \"RATEINF/INFLATION_USA\",\n",
    "]"
   ]
  },
  {
   "cell_type": "code",
   "execution_count": 8,
   "metadata": {},
   "outputs": [
    {
     "name": "stderr",
     "output_type": "stream",
     "text": [
      "WARNING:root:\n",
      "\tFRED/T10Y2Y is missing business days\n",
      "WARNING:root:\n",
      "\tRATEINF/INFLATION_USA is missing business days\n"
     ]
    }
   ],
   "source": [
    "for ratio, df in xau_df_dict.items():\n",
    "    for feature in features:\n",
    "        col_name = feature.lower().replace('/', '_')\n",
    "        \n",
    "        # get quandl features. `end_date` is set to df.index[-1] to match the price data\n",
    "        data = quandl.get(feature, authtoken=authtoken, start_date = \"1979-01-01\", end_date = df.index[-1])\n",
    "        start_date, end_date = data.index[0], data.index[-1]\n",
    "\n",
    "        # Some features contain missing data. To best simulate how the data would be ingested\n",
    "        # realtime, the current value is forward filled. This achieved by resampling.\n",
    "        if not np.array_equal(data.index, pd.date_range(start_date, end_date, freq=\"B\")):\n",
    "            logging.warning(\"\\n\\t{} is missing business days\".format(feature))\n",
    "                    \n",
    "        df[col_name] = data\n",
    "    \n",
    "    df[:] = df.ffill()"
   ]
  },
  {
   "cell_type": "markdown",
   "metadata": {},
   "source": [
    "## Technical indicator features"
   ]
  },
  {
   "cell_type": "code",
   "execution_count": 36,
   "metadata": {},
   "outputs": [],
   "source": [
    "import talib\n",
    "\n",
    "technical_indicators= {\n",
    "    \"MACD\" : (\"macd\", \"macdsignal\", \"macdhist\"),\n",
    "    \"STOCHRSI\" : (\"fastk\", \"fastd\"),\n",
    "    \"MOM\" : (\"real\"),\n",
    "    \"APO\" : ('real')\n",
    "}\n",
    "\n",
    "for ratio, df in xau_df_dict.items():\n",
    "    \n",
    "    # talib requires market price data. starting price of $1 is taken\n",
    "    # since absolute values are not important (preprocess scaling)\n",
    "    price = df['price'].values\n",
    "\n",
    "    for indicator, indicator_type in technical_indicators.items():\n",
    "        # Return the result for each indicator\n",
    "        result = getattr(talib, indicator)(price)\n",
    "\n",
    "        if isinstance(result, np.ndarray):\n",
    "            df[indicator.lower()] = result\n",
    "        else:\n",
    "            for f, r in zip(indicator_type, result):\n",
    "                if f == indicator.lower():\n",
    "                    df[\"{}\".format(indicator.lower())] = r\n",
    "                else:\n",
    "                    df[\"{}_{}\".format(indicator.lower(), f)] = r"
   ]
  },
  {
   "cell_type": "code",
   "execution_count": 191,
   "metadata": {},
   "outputs": [
    {
     "data": {
      "text/html": [
       "<div>\n",
       "<style scoped>\n",
       "    .dataframe tbody tr th:only-of-type {\n",
       "        vertical-align: middle;\n",
       "    }\n",
       "\n",
       "    .dataframe tbody tr th {\n",
       "        vertical-align: top;\n",
       "    }\n",
       "\n",
       "    .dataframe thead th {\n",
       "        text-align: right;\n",
       "    }\n",
       "</style>\n",
       "<table border=\"1\" class=\"dataframe\">\n",
       "  <thead>\n",
       "    <tr style=\"text-align: right;\">\n",
       "      <th></th>\n",
       "      <th>macd_macdsignal</th>\n",
       "      <th>macd</th>\n",
       "    </tr>\n",
       "    <tr>\n",
       "      <th>Date</th>\n",
       "      <th></th>\n",
       "      <th></th>\n",
       "    </tr>\n",
       "  </thead>\n",
       "  <tbody>\n",
       "    <tr>\n",
       "      <th>1980-02-01</th>\n",
       "      <td>71.974419</td>\n",
       "      <td>47.311716</td>\n",
       "    </tr>\n",
       "    <tr>\n",
       "      <th>1980-02-04</th>\n",
       "      <td>66.202342</td>\n",
       "      <td>43.114033</td>\n",
       "    </tr>\n",
       "    <tr>\n",
       "      <th>1980-02-05</th>\n",
       "      <td>61.024099</td>\n",
       "      <td>40.311130</td>\n",
       "    </tr>\n",
       "    <tr>\n",
       "      <th>1980-02-06</th>\n",
       "      <td>56.781196</td>\n",
       "      <td>39.809583</td>\n",
       "    </tr>\n",
       "    <tr>\n",
       "      <th>1980-02-07</th>\n",
       "      <td>53.061994</td>\n",
       "      <td>38.185185</td>\n",
       "    </tr>\n",
       "    <tr>\n",
       "      <th>1980-02-08</th>\n",
       "      <td>49.629395</td>\n",
       "      <td>35.899002</td>\n",
       "    </tr>\n",
       "    <tr>\n",
       "      <th>1980-02-11</th>\n",
       "      <td>46.738419</td>\n",
       "      <td>35.174511</td>\n",
       "    </tr>\n",
       "    <tr>\n",
       "      <th>1980-02-12</th>\n",
       "      <td>43.976672</td>\n",
       "      <td>32.929688</td>\n",
       "    </tr>\n",
       "    <tr>\n",
       "      <th>1980-02-13</th>\n",
       "      <td>41.376367</td>\n",
       "      <td>30.975143</td>\n",
       "    </tr>\n",
       "    <tr>\n",
       "      <th>1980-02-14</th>\n",
       "      <td>38.683928</td>\n",
       "      <td>27.914174</td>\n",
       "    </tr>\n",
       "    <tr>\n",
       "      <th>1980-02-15</th>\n",
       "      <td>35.747400</td>\n",
       "      <td>24.001286</td>\n",
       "    </tr>\n",
       "    <tr>\n",
       "      <th>1980-02-18</th>\n",
       "      <td>32.642594</td>\n",
       "      <td>20.223369</td>\n",
       "    </tr>\n",
       "    <tr>\n",
       "      <th>1980-02-19</th>\n",
       "      <td>29.373096</td>\n",
       "      <td>16.295104</td>\n",
       "    </tr>\n",
       "    <tr>\n",
       "      <th>1980-02-20</th>\n",
       "      <td>25.366926</td>\n",
       "      <td>9.342246</td>\n",
       "    </tr>\n",
       "    <tr>\n",
       "      <th>1980-02-21</th>\n",
       "      <td>21.992528</td>\n",
       "      <td>8.494939</td>\n",
       "    </tr>\n",
       "    <tr>\n",
       "      <th>1980-02-22</th>\n",
       "      <td>18.582475</td>\n",
       "      <td>4.942263</td>\n",
       "    </tr>\n",
       "    <tr>\n",
       "      <th>1980-02-25</th>\n",
       "      <td>15.071097</td>\n",
       "      <td>1.025582</td>\n",
       "    </tr>\n",
       "    <tr>\n",
       "      <th>1980-02-26</th>\n",
       "      <td>12.056757</td>\n",
       "      <td>-0.000599</td>\n",
       "    </tr>\n",
       "    <tr>\n",
       "      <th>1980-02-27</th>\n",
       "      <td>9.384775</td>\n",
       "      <td>-1.303156</td>\n",
       "    </tr>\n",
       "    <tr>\n",
       "      <th>1980-02-28</th>\n",
       "      <td>7.205599</td>\n",
       "      <td>-1.511106</td>\n",
       "    </tr>\n",
       "    <tr>\n",
       "      <th>1980-02-29</th>\n",
       "      <td>5.289527</td>\n",
       "      <td>-2.374758</td>\n",
       "    </tr>\n",
       "    <tr>\n",
       "      <th>1980-03-03</th>\n",
       "      <td>3.574901</td>\n",
       "      <td>-3.283605</td>\n",
       "    </tr>\n",
       "    <tr>\n",
       "      <th>1980-03-04</th>\n",
       "      <td>2.028386</td>\n",
       "      <td>-4.157675</td>\n",
       "    </tr>\n",
       "    <tr>\n",
       "      <th>1980-03-05</th>\n",
       "      <td>0.859129</td>\n",
       "      <td>-3.817898</td>\n",
       "    </tr>\n",
       "    <tr>\n",
       "      <th>1980-03-06</th>\n",
       "      <td>-0.293536</td>\n",
       "      <td>-4.904194</td>\n",
       "    </tr>\n",
       "    <tr>\n",
       "      <th>1980-03-07</th>\n",
       "      <td>-1.645932</td>\n",
       "      <td>-7.055518</td>\n",
       "    </tr>\n",
       "    <tr>\n",
       "      <th>1980-03-10</th>\n",
       "      <td>-3.431776</td>\n",
       "      <td>-10.575153</td>\n",
       "    </tr>\n",
       "    <tr>\n",
       "      <th>1980-03-11</th>\n",
       "      <td>-5.623186</td>\n",
       "      <td>-14.388826</td>\n",
       "    </tr>\n",
       "    <tr>\n",
       "      <th>1980-03-12</th>\n",
       "      <td>-7.694607</td>\n",
       "      <td>-15.980292</td>\n",
       "    </tr>\n",
       "    <tr>\n",
       "      <th>1980-03-13</th>\n",
       "      <td>-10.030566</td>\n",
       "      <td>-19.374400</td>\n",
       "    </tr>\n",
       "    <tr>\n",
       "      <th>1980-03-14</th>\n",
       "      <td>-12.921488</td>\n",
       "      <td>-24.485176</td>\n",
       "    </tr>\n",
       "    <tr>\n",
       "      <th>1980-03-17</th>\n",
       "      <td>-16.601475</td>\n",
       "      <td>-31.321422</td>\n",
       "    </tr>\n",
       "    <tr>\n",
       "      <th>1980-03-18</th>\n",
       "      <td>-20.585169</td>\n",
       "      <td>-36.519947</td>\n",
       "    </tr>\n",
       "    <tr>\n",
       "      <th>1980-03-19</th>\n",
       "      <td>-23.777546</td>\n",
       "      <td>-36.547054</td>\n",
       "    </tr>\n",
       "    <tr>\n",
       "      <th>1980-03-20</th>\n",
       "      <td>-25.709947</td>\n",
       "      <td>-33.439550</td>\n",
       "    </tr>\n",
       "    <tr>\n",
       "      <th>1980-03-21</th>\n",
       "      <td>-27.267080</td>\n",
       "      <td>-33.495613</td>\n",
       "    </tr>\n",
       "    <tr>\n",
       "      <th>1980-03-24</th>\n",
       "      <td>-27.914744</td>\n",
       "      <td>-30.505399</td>\n",
       "    </tr>\n",
       "    <tr>\n",
       "      <th>1980-03-25</th>\n",
       "      <td>-28.070294</td>\n",
       "      <td>-28.692492</td>\n",
       "    </tr>\n",
       "    <tr>\n",
       "      <th>1980-03-26</th>\n",
       "      <td>-28.479452</td>\n",
       "      <td>-30.116084</td>\n",
       "    </tr>\n",
       "    <tr>\n",
       "      <th>1980-03-27</th>\n",
       "      <td>-29.316193</td>\n",
       "      <td>-32.663159</td>\n",
       "    </tr>\n",
       "    <tr>\n",
       "      <th>1980-03-28</th>\n",
       "      <td>-30.234471</td>\n",
       "      <td>-33.907583</td>\n",
       "    </tr>\n",
       "    <tr>\n",
       "      <th>1980-03-31</th>\n",
       "      <td>-31.015012</td>\n",
       "      <td>-34.137174</td>\n",
       "    </tr>\n",
       "    <tr>\n",
       "      <th>1980-04-01</th>\n",
       "      <td>-31.358298</td>\n",
       "      <td>-32.731444</td>\n",
       "    </tr>\n",
       "    <tr>\n",
       "      <th>1980-04-02</th>\n",
       "      <td>-31.481644</td>\n",
       "      <td>-31.975029</td>\n",
       "    </tr>\n",
       "    <tr>\n",
       "      <th>1980-04-03</th>\n",
       "      <td>-31.624245</td>\n",
       "      <td>-32.194647</td>\n",
       "    </tr>\n",
       "    <tr>\n",
       "      <th>1980-04-04</th>\n",
       "      <td>-31.699360</td>\n",
       "      <td>-31.999822</td>\n",
       "    </tr>\n",
       "    <tr>\n",
       "      <th>1980-04-07</th>\n",
       "      <td>-31.655990</td>\n",
       "      <td>-31.482511</td>\n",
       "    </tr>\n",
       "    <tr>\n",
       "      <th>1980-04-08</th>\n",
       "      <td>-30.794405</td>\n",
       "      <td>-27.348065</td>\n",
       "    </tr>\n",
       "    <tr>\n",
       "      <th>1980-04-09</th>\n",
       "      <td>-28.980143</td>\n",
       "      <td>-21.723093</td>\n",
       "    </tr>\n",
       "    <tr>\n",
       "      <th>1980-04-10</th>\n",
       "      <td>-27.044539</td>\n",
       "      <td>-19.302126</td>\n",
       "    </tr>\n",
       "  </tbody>\n",
       "</table>\n",
       "</div>"
      ],
      "text/plain": [
       "            macd_macdsignal       macd\n",
       "Date                                  \n",
       "1980-02-01        71.974419  47.311716\n",
       "1980-02-04        66.202342  43.114033\n",
       "1980-02-05        61.024099  40.311130\n",
       "1980-02-06        56.781196  39.809583\n",
       "1980-02-07        53.061994  38.185185\n",
       "1980-02-08        49.629395  35.899002\n",
       "1980-02-11        46.738419  35.174511\n",
       "1980-02-12        43.976672  32.929688\n",
       "1980-02-13        41.376367  30.975143\n",
       "1980-02-14        38.683928  27.914174\n",
       "1980-02-15        35.747400  24.001286\n",
       "1980-02-18        32.642594  20.223369\n",
       "1980-02-19        29.373096  16.295104\n",
       "1980-02-20        25.366926   9.342246\n",
       "1980-02-21        21.992528   8.494939\n",
       "1980-02-22        18.582475   4.942263\n",
       "1980-02-25        15.071097   1.025582\n",
       "1980-02-26        12.056757  -0.000599\n",
       "1980-02-27         9.384775  -1.303156\n",
       "1980-02-28         7.205599  -1.511106\n",
       "1980-02-29         5.289527  -2.374758\n",
       "1980-03-03         3.574901  -3.283605\n",
       "1980-03-04         2.028386  -4.157675\n",
       "1980-03-05         0.859129  -3.817898\n",
       "1980-03-06        -0.293536  -4.904194\n",
       "1980-03-07        -1.645932  -7.055518\n",
       "1980-03-10        -3.431776 -10.575153\n",
       "1980-03-11        -5.623186 -14.388826\n",
       "1980-03-12        -7.694607 -15.980292\n",
       "1980-03-13       -10.030566 -19.374400\n",
       "1980-03-14       -12.921488 -24.485176\n",
       "1980-03-17       -16.601475 -31.321422\n",
       "1980-03-18       -20.585169 -36.519947\n",
       "1980-03-19       -23.777546 -36.547054\n",
       "1980-03-20       -25.709947 -33.439550\n",
       "1980-03-21       -27.267080 -33.495613\n",
       "1980-03-24       -27.914744 -30.505399\n",
       "1980-03-25       -28.070294 -28.692492\n",
       "1980-03-26       -28.479452 -30.116084\n",
       "1980-03-27       -29.316193 -32.663159\n",
       "1980-03-28       -30.234471 -33.907583\n",
       "1980-03-31       -31.015012 -34.137174\n",
       "1980-04-01       -31.358298 -32.731444\n",
       "1980-04-02       -31.481644 -31.975029\n",
       "1980-04-03       -31.624245 -32.194647\n",
       "1980-04-04       -31.699360 -31.999822\n",
       "1980-04-07       -31.655990 -31.482511\n",
       "1980-04-08       -30.794405 -27.348065\n",
       "1980-04-09       -28.980143 -21.723093\n",
       "1980-04-10       -27.044539 -19.302126"
      ]
     },
     "execution_count": 191,
     "metadata": {},
     "output_type": "execute_result"
    },
    {
     "data": {
      "image/png": "[encoded data removed]",
      "text/plain": [
       "<Figure size 1080x576 with 1 Axes>"
      ]
     },
     "metadata": {},
     "output_type": "display_data"
    }
   ],
   "source": [
    "df = split_data['X_train']\n",
    "df = df[['macd_macdsignal', 'macd']]\n",
    "sns.set_style('dark')\n",
    "sns.set(rc={'figure.figsize':(15, 8)})\n",
    "\n",
    "\n",
    "df['1980':'1981'].plot()\n",
    "\n",
    "s_2 = df['macd_macdsignal']\n",
    "s_1 = df['macd']\n",
    "\n",
    "uptrend = (s_1 < s_2) & (s_1 >= s_2)\n",
    "\n",
    "dates_increasing = df.index[fast_greater_slow]\n",
    "dates_decreasing = df.index[~fast_greater_slow]\n",
    "\n",
    "# class MacdCross(BaseEstimator, TransformerMixin):\n",
    "#     def __init__():\n",
    "        \n",
    "#     def fit(self, X, y= None):\n",
    "#         return self\n",
    "    \n",
    "#     def transform(self, X, y=None):\n",
    "#         fast, slow = X['macd_macdsignal'], X['macd']\n",
    "        \n",
    "#         uptrend = (fast < )\n",
    "        \n",
    "uptrend = s_1 > s_2\n",
    "downtrend = s_1 < s_2\n",
    "\n",
    "df['1980':'1981'].head(50)"
   ]
  },
  {
   "cell_type": "code",
   "execution_count": 192,
   "metadata": {},
   "outputs": [
    {
     "data": {
      "text/plain": [
       "DatetimeIndex(['1980-04-07', '1980-04-08', '1980-04-09', '1980-04-10',\n",
       "               '1980-04-11', '1980-04-14', '1980-04-15', '1980-04-16',\n",
       "               '1980-04-17', '1980-04-18',\n",
       "               ...\n",
       "               '2007-09-21', '2007-09-24', '2007-09-25', '2007-09-26',\n",
       "               '2007-09-27', '2007-09-28', '2007-10-01', '2007-10-02',\n",
       "               '2007-10-15', '2007-10-16'],\n",
       "              dtype='datetime64[ns]', name='Date', length=3723, freq=None)"
      ]
     },
     "execution_count": 192,
     "metadata": {},
     "output_type": "execute_result"
    }
   ],
   "source": [
    "s_1.index[uptrend]"
   ]
  },
  {
   "cell_type": "code",
   "execution_count": 98,
   "metadata": {},
   "outputs": [
    {
     "data": {
      "image/png": "[encoded data removed]",
      "text/plain": [
       "<Figure size 432x288 with 1 Axes>"
      ]
     },
     "metadata": {
      "needs_background": "light"
     },
     "output_type": "display_data"
    }
   ],
   "source": [
    "ind = df.index[fast_greater_slow]\n",
    "\n",
    "\n",
    "np.split(ind, dates[~((dates.shift(5) == dates) | (dates.shift(-5) == dates))].index)\n",
    "for region in np.split(ind, dates[~((dates.shift(5) == dates) | (dates.shift(-5) == dates))].index):\n",
    "    plt.axvspan(region[0], region[-1])"
   ]
  },
  {
   "cell_type": "code",
   "execution_count": 40,
   "metadata": {},
   "outputs": [
    {
     "data": {
      "text/plain": [
       "Index(['5d_market_vol', '20d_market_vol', '60d_market_vol', '120d_market_vol',\n",
       "       '252d_market_vol', 'fred_t10y2y', 'rateinf_inflation_usa', 'macd_macd',\n",
       "       'macd_macdsignal', 'macd_macdhist', 'stochrsi_fastk', 'stochrsi_fastd',\n",
       "       'mom', 'macd', 'apo'],\n",
       "      dtype='object')"
      ]
     },
     "execution_count": 40,
     "metadata": {},
     "output_type": "execute_result"
    }
   ],
   "source": [
    "split_data['X_train'].columns"
   ]
  },
  {
   "cell_type": "markdown",
   "metadata": {},
   "source": [
    "## Data preporocessing "
   ]
  },
  {
   "cell_type": "code",
   "execution_count": 11,
   "metadata": {},
   "outputs": [],
   "source": [
    "def train_valid_test_split(all_x, all_y, train_size, valid_size, test_size):\n",
    "    \"\"\"\n",
    "    Generate the train, validation, and test dataset.\n",
    "\n",
    "    Parameters\n",
    "    ----------\n",
    "    all_x : DataFrame\n",
    "        All the input samples\n",
    "    all_y : Pandas Series\n",
    "        All the target values\n",
    "    train_size : float\n",
    "        The proportion of the data used for the training dataset\n",
    "    valid_size : float\n",
    "        The proportion of the data used for the validation dataset\n",
    "    test_size : float\n",
    "        The proportion of the data used for the test dataset\n",
    "\n",
    "    Returns\n",
    "    -------\n",
    "    x_train : DataFrame\n",
    "        The train input samples\n",
    "    x_valid : DataFrame\n",
    "        The validation input samples\n",
    "    x_test : DataFrame\n",
    "        The test input samples\n",
    "    y_train : Pandas Series\n",
    "        The train target values\n",
    "    y_valid : Pandas Series\n",
    "        The validation target values\n",
    "    y_test : Pandas Series\n",
    "        The test target values\n",
    "    \"\"\"\n",
    "    \n",
    "    assert train_size > 0 and train_size < 1.0\n",
    "    assert valid_size > 0 and valid_size < 1.0\n",
    "    assert test_size > 0 and test_size < 1.0\n",
    "    assert train_size + valid_size + test_size == 1.0\n",
    "    \n",
    "    dates = all_x.index\n",
    "    \n",
    "    train_dates, valid_dates, test_dates = np.split(\n",
    "        dates, [int(len(dates) * train_size), \n",
    "                int(len(dates) * (train_size + test_size))]\n",
    "    )\n",
    "    \n",
    "    X_train = all_x.loc[train_dates, :]\n",
    "    X_valid = all_x.loc[valid_dates, :]\n",
    "    X_test = all_x.loc[test_dates, :]\n",
    "    \n",
    "    y_train = all_y.loc[train_dates]\n",
    "    y_valid = all_y.loc[valid_dates]\n",
    "    y_test = all_y.loc[test_dates]\n",
    "    \n",
    "    return {\n",
    "        \"X_train\" : X_train, \n",
    "        \"X_valid\" : X_valid, \n",
    "        \"X_test\" : X_test, \n",
    "        \"y_train\" : y_train, \n",
    "        \"y_valid\" : y_valid, \n",
    "        \"y_test\" : y_test\n",
    "    }"
   ]
  },
  {
   "cell_type": "code",
   "execution_count": 39,
   "metadata": {},
   "outputs": [
    {
     "data": {
      "text/plain": [
       "(7228, 15)"
      ]
     },
     "execution_count": 39,
     "metadata": {},
     "output_type": "execute_result"
    }
   ],
   "source": [
    "data = xau_df_dict['wgc_gold_daily_usd']\n",
    "data['target'] = data['price'].shift(-1).pct_change()\n",
    "data.dropna(inplace = True)\n",
    "\n",
    "X = data.drop(['price', 'target'], axis = 1)\n",
    "y = (data['target'] > 0).astype(int)\n",
    "               \n",
    "split_data = train_valid_test_split(X, y, 0.7, 0.15, 0.15)\n",
    "split_data['X_train'].shape"
   ]
  },
  {
   "cell_type": "code",
   "execution_count": 52,
   "metadata": {},
   "outputs": [],
   "source": [
    "scalar = StandardScaler()\n",
    "scalar.fit(split_data[\"X_train\"])\n",
    "\n",
    "scaled_split_data = {name : scalar.transform(df) if \"X\" in name else df for name, df in split_data.items()}"
   ]
  },
  {
   "cell_type": "code",
   "execution_count": 187,
   "metadata": {},
   "outputs": [],
   "source": [
    "n_days = scaled_split_data['X_train'].shape[0]\n",
    "n_features = scaled_split_data['X_train'].shape[1]\n",
    "\n",
    "clf_parameters = {\n",
    "    'criterion': 'entropy',\n",
    "    'min_samples_leaf': 20,\n",
    "    'oob_score': True,\n",
    "    'n_jobs': -1,\n",
    "    'random_state': 0}\n",
    "\n",
    "n_trees_l = [30, 100, 250, 500, 1000]"
   ]
  },
  {
   "cell_type": "code",
   "execution_count": 188,
   "metadata": {},
   "outputs": [
    {
     "name": "stderr",
     "output_type": "stream",
     "text": [
      "Training Models: 100%|██████████| 5/5 [00:11<00:00,  2.65s/Model]\n"
     ]
    }
   ],
   "source": [
    "train_score = []\n",
    "valid_score = []\n",
    "oob_score = []\n",
    "feature_importances = []\n",
    "\n",
    "for n_trees in tqdm(n_trees_l, desc='Training Models', unit='Model'):\n",
    "    \n",
    "    clf = RandomForestClassifier(n_trees, **clf_parameters)\n",
    "    clf.fit(scaled_split_data['X_train'], scaled_split_data[\"y_train\"])\n",
    "    \n",
    "    train_score.append(clf.score(scaled_split_data['X_train'], scaled_split_data[\"y_train\"].values))\n",
    "    valid_score.append(clf.score(scaled_split_data[\"X_valid\"], scaled_split_data[\"y_valid\"].values))\n",
    "    \n",
    "    oob_score.append(clf.oob_score_)\n",
    "    feature_importances.append(clf.feature_importances_)"
   ]
  },
  {
   "cell_type": "code",
   "execution_count": 189,
   "metadata": {},
   "outputs": [
    {
     "data": {
      "image/png": "[encoded data removed]",
      "text/plain": [
       "<Figure size 432x288 with 1 Axes>"
      ]
     },
     "metadata": {
      "needs_background": "light"
     },
     "output_type": "display_data"
    }
   ],
   "source": [
    "def plot(xs, ys, labels, title='', x_label='', y_label=''):\n",
    "    for x, y, label in zip(xs, ys, labels):\n",
    "        plt.ylim((0.3, 0.9))\n",
    "        plt.plot(x, y, label=label)\n",
    "        \n",
    "    plt.title(title)\n",
    "    plt.xlabel(x_label)\n",
    "    plt.ylabel(y_label)\n",
    "\n",
    "    plt.legend(bbox_to_anchor=(1.04, 1), borderaxespad=0)\n",
    "    plt.show()\n",
    "\n",
    "plot([n_trees_l]*3,\n",
    "    [train_score, valid_score, oob_score],\n",
    "    ['train', 'validation', 'oob'],\n",
    "    'Random Forrest Accuracy',\n",
    "    'Number of Trees')"
   ]
  },
  {
   "cell_type": "code",
   "execution_count": 249,
   "metadata": {},
   "outputs": [
    {
     "data": {
      "text/plain": [
       "<matplotlib.legend.Legend at 0x7f8ffcd4e128>"
      ]
     },
     "execution_count": 249,
     "metadata": {},
     "output_type": "execute_result"
    },
    {
     "data": {
      "image/png": "[encoded data removed]",
      "text/plain": [
       "<Figure size 1080x576 with 1 Axes>"
      ]
     },
     "metadata": {},
     "output_type": "display_data"
    }
   ],
   "source": [
    "prob_array=[-1,1]\n",
    "alpha_score = clf.predict_proba(scaled_split_data['X_train']).dot(np.array(prob_array))\n",
    "\n",
    "# calculate daily returns\n",
    "alpha_return = alpha_score * data.loc[split_data['X_train'].index, 'target'].shift(-1) * 1.827852605657414\n",
    "xau_usd_return = data.loc[split_data['X_train'].index, 'target']\n",
    "\n",
    "# calculate cumulative performance\n",
    "alpha_perf = (1 + alpha_return).cumprod()\n",
    "xau_usd_per = (1 + xau_usd_return).cumprod()\n",
    "\n",
    "#alpha_return.plot()\n",
    "alpha_sharpe = (np.sqrt(252.) * alpha_return.mean()) / alpha_return.std() \n",
    "xau_usd_sharpe = (np.sqrt(252.) * xau_usd_return.mean()) / xau_usd_return.std() \n",
    "\n",
    "alpha_perf.plot()\n",
    "xau_usd_per.plot()\n",
    "\n",
    "xau_usd_return.mean() / alpha_return.mean() \n",
    "sns.set(rc={'figure.figsize':(15, 8)})\n",
    "plt.legend(labels = ['Model', 'Actual Gold/USD'])"
   ]
  }
 ],
 "metadata": {
  "kernelspec": {
   "display_name": "Python 3",
   "language": "python",
   "name": "python3"
  },
  "language_info": {
   "codemirror_mode": {
    "name": "ipython",
    "version": 3
   },
   "file_extension": ".py",
   "mimetype": "text/x-python",
   "name": "python",
   "nbconvert_exporter": "python",
   "pygments_lexer": "ipython3",
   "version": "3.7.3"
  }
 },
 "nbformat": 4,
 "nbformat_minor": 4
}
